{
 "cells": [
  {
   "cell_type": "code",
   "execution_count": 1,
   "metadata": {
    "collapsed": true
   },
   "outputs": [],
   "source": [
    "import tensorflow as tf\n",
    "import numpy as np\n",
    "from tensorflow.examples.tutorials.mnist import input_data"
   ]
  },
  {
   "cell_type": "code",
   "execution_count": 2,
   "metadata": {},
   "outputs": [
    {
     "name": "stdout",
     "output_type": "stream",
     "text": [
      "Extracting /Users/mayankaggarwal/MNIST_data/train-images-idx3-ubyte.gz\n",
      "Extracting /Users/mayankaggarwal/MNIST_data/train-labels-idx1-ubyte.gz\n",
      "Extracting /Users/mayankaggarwal/MNIST_data/t10k-images-idx3-ubyte.gz\n",
      "Extracting /Users/mayankaggarwal/MNIST_data/t10k-labels-idx1-ubyte.gz\n"
     ]
    }
   ],
   "source": [
    "mnist=input_data.read_data_sets('/Users/mayankaggarwal/MNIST_data',one_hot=True)"
   ]
  },
  {
   "cell_type": "code",
   "execution_count": 5,
   "metadata": {
    "collapsed": true
   },
   "outputs": [],
   "source": [
    "train_features=mnist.train.images\n",
    "train_labels=mnist.train.labels\n",
    "valid_features=mnist.validation.images\n",
    "valid_labels=mnist.validation.labels\n",
    "test_features=mnist.test.images\n",
    "test_labels=mnist.test.labels\n",
    "n_input=784\n",
    "n_labels=10"
   ]
  },
  {
   "cell_type": "code",
   "execution_count": 6,
   "metadata": {},
   "outputs": [],
   "source": [
    "weights=tf.Variable(tf.random_normal([n_input,n_labels]))\n",
    "biases=tf.Variable(tf.random_normal([n_labels]))"
   ]
  },
  {
   "cell_type": "code",
   "execution_count": 7,
   "metadata": {
    "collapsed": true
   },
   "outputs": [],
   "source": [
    "features=tf.placeholder(tf.float32,[None,n_input])\n",
    "labels=tf.placeholder(tf.float32,[None,n_labels])"
   ]
  },
  {
   "cell_type": "code",
   "execution_count": 8,
   "metadata": {},
   "outputs": [],
   "source": [
    "#logistic regression\n",
    "logits=tf.add(tf.matmul(features,weights),biases)"
   ]
  },
  {
   "cell_type": "code",
   "execution_count": 9,
   "metadata": {
    "collapsed": true
   },
   "outputs": [],
   "source": [
    "learining_rate=tf.placeholder(tf.float32)"
   ]
  },
  {
   "cell_type": "code",
   "execution_count": 10,
   "metadata": {
    "collapsed": true
   },
   "outputs": [],
   "source": [
    "#loss\n",
    "cost=tf.reduce_mean(tf.nn.softmax_cross_entropy_with_logits(logits=logits,labels=labels))"
   ]
  },
  {
   "cell_type": "code",
   "execution_count": 11,
   "metadata": {
    "collapsed": true
   },
   "outputs": [],
   "source": [
    "#optimize\n",
    "optimizer=tf.train.GradientDescentOptimizer(learning_rate=learining_rate).minimize(cost)"
   ]
  },
  {
   "cell_type": "code",
   "execution_count": 12,
   "metadata": {
    "collapsed": true
   },
   "outputs": [],
   "source": [
    "# Calculate accuracy\n",
    "correct_prediction = tf.equal(tf.argmax(logits, 1), tf.argmax(labels, 1))\n",
    "accuracy = tf.reduce_mean(tf.cast(correct_prediction, tf.float32))"
   ]
  },
  {
   "cell_type": "code",
   "execution_count": 13,
   "metadata": {},
   "outputs": [],
   "source": [
    "batch_size=128\n",
    "learn_rate=0.001\n",
    "epochs=10"
   ]
  },
  {
   "cell_type": "code",
   "execution_count": 14,
   "metadata": {
    "collapsed": true
   },
   "outputs": [],
   "source": [
    "def batches(batch_size,features,labels):\n",
    "    output=[]\n",
    "    for i in range(0,len(features),batch_size):\n",
    "        batch=[features[i:i+batch_size],labels[i:i+batch_size]]\n",
    "        output.append(batch)\n",
    "    return output"
   ]
  },
  {
   "cell_type": "code",
   "execution_count": 20,
   "metadata": {},
   "outputs": [],
   "source": [
    "train_batches = batches(batch_size, train_features, train_labels)"
   ]
  },
  {
   "cell_type": "code",
   "execution_count": 16,
   "metadata": {
    "collapsed": true
   },
   "outputs": [],
   "source": [
    "def print_epoch_stats(epoch_i, sess, last_features, last_labels):\n",
    "    \"\"\"\n",
    "    Print cost and validation accuracy of an epoch\n",
    "    \"\"\"\n",
    "    current_cost = sess.run(\n",
    "        cost,\n",
    "        feed_dict={features: last_features, labels: last_labels})\n",
    "    valid_accuracy = sess.run(\n",
    "        accuracy,\n",
    "        feed_dict={features: valid_features, labels: valid_labels})\n",
    "    print('Epoch: {:<4} - Cost: {:<8.3} Valid Accuracy: {:<5.3}'.format(\n",
    "        epoch_i,\n",
    "        current_cost,\n",
    "        valid_accuracy))"
   ]
  },
  {
   "cell_type": "code",
   "execution_count": 17,
   "metadata": {
    "collapsed": true
   },
   "outputs": [],
   "source": [
    "init=tf.global_variables_initializer()"
   ]
  },
  {
   "cell_type": "code",
   "execution_count": 27,
   "metadata": {},
   "outputs": [
    {
     "name": "stdout",
     "output_type": "stream",
     "text": [
      "Epoch: 0    - Cost: 12.8     Valid Accuracy: 0.0938\n",
      "Epoch: 1    - Cost: 11.9     Valid Accuracy: 0.103\n",
      "Epoch: 2    - Cost: 11.1     Valid Accuracy: 0.114\n",
      "Epoch: 3    - Cost: 10.5     Valid Accuracy: 0.125\n",
      "Epoch: 4    - Cost: 9.99     Valid Accuracy: 0.137\n",
      "Epoch: 5    - Cost: 9.53     Valid Accuracy: 0.151\n",
      "Epoch: 6    - Cost: 9.11     Valid Accuracy: 0.168\n",
      "Epoch: 7    - Cost: 8.72     Valid Accuracy: 0.186\n",
      "Epoch: 8    - Cost: 8.36     Valid Accuracy: 0.207\n",
      "Epoch: 9    - Cost: 8.02     Valid Accuracy: 0.228\n"
     ]
    }
   ],
   "source": [
    "with tf.Session() as sess:\n",
    "    sess.run(init)\n",
    "    for epoch_i in range(epochs):\n",
    "        for batch_features,batch_labels in train_batches:\n",
    "            train_feed_dict={\n",
    "                learining_rate:learn_rate,\n",
    "                features:batch_features,\n",
    "                labels:batch_labels\n",
    "            }\n",
    "            sess.run(optimizer, feed_dict=train_feed_dict)\n",
    "        print_epoch_stats(epoch_i, sess, batch_features, batch_labels)"
   ]
  },
  {
   "cell_type": "code",
   "execution_count": null,
   "metadata": {
    "collapsed": true
   },
   "outputs": [],
   "source": []
  }
 ],
 "metadata": {
  "kernelspec": {
   "display_name": "Python 3",
   "language": "python",
   "name": "python3"
  },
  "language_info": {
   "codemirror_mode": {
    "name": "ipython",
    "version": 3
   },
   "file_extension": ".py",
   "mimetype": "text/x-python",
   "name": "python",
   "nbconvert_exporter": "python",
   "pygments_lexer": "ipython3",
   "version": "3.6.2"
  }
 },
 "nbformat": 4,
 "nbformat_minor": 2
}
